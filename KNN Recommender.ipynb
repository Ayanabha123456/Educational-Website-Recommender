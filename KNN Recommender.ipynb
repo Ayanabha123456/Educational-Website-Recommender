{
 "cells": [
  {
   "cell_type": "code",
   "execution_count": 11,
   "metadata": {},
   "outputs": [],
   "source": [
    "import pandas as pd\n",
    "import numpy as np\n",
    "from scipy.sparse import csr_matrix\n",
    "import sklearn\n",
    "from sklearn.decomposition import TruncatedSVD"
   ]
  },
  {
   "cell_type": "code",
   "execution_count": 12,
   "metadata": {},
   "outputs": [
    {
     "data": {
      "text/html": [
       "<div>\n",
       "<style scoped>\n",
       "    .dataframe tbody tr th:only-of-type {\n",
       "        vertical-align: middle;\n",
       "    }\n",
       "\n",
       "    .dataframe tbody tr th {\n",
       "        vertical-align: top;\n",
       "    }\n",
       "\n",
       "    .dataframe thead th {\n",
       "        text-align: right;\n",
       "    }\n",
       "</style>\n",
       "<table border=\"1\" class=\"dataframe\">\n",
       "  <thead>\n",
       "    <tr style=\"text-align: right;\">\n",
       "      <th></th>\n",
       "      <th>UserID</th>\n",
       "      <th>Rating</th>\n",
       "      <th>Item</th>\n",
       "    </tr>\n",
       "  </thead>\n",
       "  <tbody>\n",
       "    <tr>\n",
       "      <td>0</td>\n",
       "      <td>Ayanabha</td>\n",
       "      <td>4</td>\n",
       "      <td>MAT2001CAT1 Q</td>\n",
       "    </tr>\n",
       "    <tr>\n",
       "      <td>1</td>\n",
       "      <td>Yash</td>\n",
       "      <td>3</td>\n",
       "      <td>Thomas Calculus</td>\n",
       "    </tr>\n",
       "    <tr>\n",
       "      <td>2</td>\n",
       "      <td>Ayanabha</td>\n",
       "      <td>2</td>\n",
       "      <td>Thomas Calculus</td>\n",
       "    </tr>\n",
       "    <tr>\n",
       "      <td>3</td>\n",
       "      <td>Soham</td>\n",
       "      <td>4</td>\n",
       "      <td>Probability and Random Variable</td>\n",
       "    </tr>\n",
       "    <tr>\n",
       "      <td>4</td>\n",
       "      <td>Ayanabha</td>\n",
       "      <td>5</td>\n",
       "      <td>Data Structures</td>\n",
       "    </tr>\n",
       "  </tbody>\n",
       "</table>\n",
       "</div>"
      ],
      "text/plain": [
       "     UserID  Rating                             Item\n",
       "0  Ayanabha       4                    MAT2001CAT1 Q\n",
       "1      Yash       3                  Thomas Calculus\n",
       "2  Ayanabha       2                  Thomas Calculus\n",
       "3     Soham       4  Probability and Random Variable\n",
       "4  Ayanabha       5                  Data Structures"
      ]
     },
     "execution_count": 12,
     "metadata": {},
     "output_type": "execute_result"
    }
   ],
   "source": [
    "df=pd.read_csv('edumat.csv')\n",
    "df.head()"
   ]
  },
  {
   "cell_type": "code",
   "execution_count": 13,
   "metadata": {},
   "outputs": [
    {
     "data": {
      "text/html": [
       "<div>\n",
       "<style scoped>\n",
       "    .dataframe tbody tr th:only-of-type {\n",
       "        vertical-align: middle;\n",
       "    }\n",
       "\n",
       "    .dataframe tbody tr th {\n",
       "        vertical-align: top;\n",
       "    }\n",
       "\n",
       "    .dataframe thead th {\n",
       "        text-align: right;\n",
       "    }\n",
       "</style>\n",
       "<table border=\"1\" class=\"dataframe\">\n",
       "  <thead>\n",
       "    <tr style=\"text-align: right;\">\n",
       "      <th>UserID</th>\n",
       "      <th>Alpanshu</th>\n",
       "      <th>Arpit</th>\n",
       "      <th>Ayanabha</th>\n",
       "      <th>Biswajit</th>\n",
       "      <th>Saswat</th>\n",
       "      <th>Soham</th>\n",
       "      <th>Yash</th>\n",
       "    </tr>\n",
       "    <tr>\n",
       "      <th>Item</th>\n",
       "      <th></th>\n",
       "      <th></th>\n",
       "      <th></th>\n",
       "      <th></th>\n",
       "      <th></th>\n",
       "      <th></th>\n",
       "      <th></th>\n",
       "    </tr>\n",
       "  </thead>\n",
       "  <tbody>\n",
       "    <tr>\n",
       "      <td>CSE2003CAT1 Q</td>\n",
       "      <td>0.0</td>\n",
       "      <td>0.0</td>\n",
       "      <td>0.0</td>\n",
       "      <td>1.0</td>\n",
       "      <td>0.0</td>\n",
       "      <td>0.0</td>\n",
       "      <td>0.0</td>\n",
       "    </tr>\n",
       "    <tr>\n",
       "      <td>CSE2003CAT2 Q</td>\n",
       "      <td>0.0</td>\n",
       "      <td>3.0</td>\n",
       "      <td>0.0</td>\n",
       "      <td>0.0</td>\n",
       "      <td>0.0</td>\n",
       "      <td>0.0</td>\n",
       "      <td>0.0</td>\n",
       "    </tr>\n",
       "    <tr>\n",
       "      <td>Data Structures</td>\n",
       "      <td>0.0</td>\n",
       "      <td>0.0</td>\n",
       "      <td>5.0</td>\n",
       "      <td>0.0</td>\n",
       "      <td>0.0</td>\n",
       "      <td>0.0</td>\n",
       "      <td>1.0</td>\n",
       "    </tr>\n",
       "    <tr>\n",
       "      <td>Digital Logic</td>\n",
       "      <td>0.0</td>\n",
       "      <td>0.0</td>\n",
       "      <td>3.0</td>\n",
       "      <td>0.0</td>\n",
       "      <td>0.0</td>\n",
       "      <td>3.0</td>\n",
       "      <td>5.0</td>\n",
       "    </tr>\n",
       "    <tr>\n",
       "      <td>Engineering Chemistry</td>\n",
       "      <td>5.0</td>\n",
       "      <td>0.0</td>\n",
       "      <td>0.0</td>\n",
       "      <td>0.0</td>\n",
       "      <td>0.0</td>\n",
       "      <td>0.0</td>\n",
       "      <td>0.0</td>\n",
       "    </tr>\n",
       "    <tr>\n",
       "      <td>MAT2001CAT1 Q</td>\n",
       "      <td>0.0</td>\n",
       "      <td>0.0</td>\n",
       "      <td>4.0</td>\n",
       "      <td>0.0</td>\n",
       "      <td>4.0</td>\n",
       "      <td>4.0</td>\n",
       "      <td>5.0</td>\n",
       "    </tr>\n",
       "    <tr>\n",
       "      <td>Operating Systems</td>\n",
       "      <td>0.0</td>\n",
       "      <td>0.0</td>\n",
       "      <td>0.0</td>\n",
       "      <td>1.0</td>\n",
       "      <td>0.0</td>\n",
       "      <td>0.0</td>\n",
       "      <td>0.0</td>\n",
       "    </tr>\n",
       "    <tr>\n",
       "      <td>Probability and Random Variable</td>\n",
       "      <td>3.0</td>\n",
       "      <td>0.0</td>\n",
       "      <td>0.0</td>\n",
       "      <td>0.0</td>\n",
       "      <td>0.0</td>\n",
       "      <td>4.0</td>\n",
       "      <td>0.0</td>\n",
       "    </tr>\n",
       "    <tr>\n",
       "      <td>Thomas Calculus</td>\n",
       "      <td>0.0</td>\n",
       "      <td>0.0</td>\n",
       "      <td>2.0</td>\n",
       "      <td>0.0</td>\n",
       "      <td>4.0</td>\n",
       "      <td>0.0</td>\n",
       "      <td>3.0</td>\n",
       "    </tr>\n",
       "  </tbody>\n",
       "</table>\n",
       "</div>"
      ],
      "text/plain": [
       "UserID                           Alpanshu  Arpit  Ayanabha  Biswajit  Saswat  \\\n",
       "Item                                                                           \n",
       "CSE2003CAT1 Q                         0.0    0.0       0.0       1.0     0.0   \n",
       "CSE2003CAT2 Q                         0.0    3.0       0.0       0.0     0.0   \n",
       "Data Structures                       0.0    0.0       5.0       0.0     0.0   \n",
       "Digital Logic                         0.0    0.0       3.0       0.0     0.0   \n",
       "Engineering Chemistry                 5.0    0.0       0.0       0.0     0.0   \n",
       "MAT2001CAT1 Q                         0.0    0.0       4.0       0.0     4.0   \n",
       "Operating Systems                     0.0    0.0       0.0       1.0     0.0   \n",
       "Probability and Random Variable       3.0    0.0       0.0       0.0     0.0   \n",
       "Thomas Calculus                       0.0    0.0       2.0       0.0     4.0   \n",
       "\n",
       "UserID                           Soham  Yash  \n",
       "Item                                          \n",
       "CSE2003CAT1 Q                      0.0   0.0  \n",
       "CSE2003CAT2 Q                      0.0   0.0  \n",
       "Data Structures                    0.0   1.0  \n",
       "Digital Logic                      3.0   5.0  \n",
       "Engineering Chemistry              0.0   0.0  \n",
       "MAT2001CAT1 Q                      4.0   5.0  \n",
       "Operating Systems                  0.0   0.0  \n",
       "Probability and Random Variable    4.0   0.0  \n",
       "Thomas Calculus                    0.0   3.0  "
      ]
     },
     "execution_count": 13,
     "metadata": {},
     "output_type": "execute_result"
    }
   ],
   "source": [
    "d=df.pivot(index='Item',columns='UserID',values='Rating').fillna(0)\n",
    "d"
   ]
  },
  {
   "cell_type": "code",
   "execution_count": 14,
   "metadata": {},
   "outputs": [
    {
     "name": "stdout",
     "output_type": "stream",
     "text": [
      "  (0, 3)\t1.0\n",
      "  (1, 1)\t3.0\n",
      "  (2, 2)\t5.0\n",
      "  (2, 6)\t1.0\n",
      "  (3, 2)\t3.0\n",
      "  (3, 5)\t3.0\n",
      "  (3, 6)\t5.0\n",
      "  (4, 0)\t5.0\n",
      "  (5, 2)\t4.0\n",
      "  (5, 4)\t4.0\n",
      "  (5, 5)\t4.0\n",
      "  (5, 6)\t5.0\n",
      "  (6, 3)\t1.0\n",
      "  (7, 0)\t3.0\n",
      "  (7, 5)\t4.0\n",
      "  (8, 2)\t2.0\n",
      "  (8, 4)\t4.0\n",
      "  (8, 6)\t3.0\n"
     ]
    }
   ],
   "source": [
    "m=csr_matrix(d.values)\n",
    "print(m)"
   ]
  },
  {
   "cell_type": "code",
   "execution_count": 15,
   "metadata": {},
   "outputs": [
    {
     "data": {
      "text/plain": [
       "NearestNeighbors(algorithm='brute', leaf_size=30, metric='cosine',\n",
       "                 metric_params=None, n_jobs=None, n_neighbors=5, p=2,\n",
       "                 radius=1.0)"
      ]
     },
     "execution_count": 15,
     "metadata": {},
     "output_type": "execute_result"
    }
   ],
   "source": [
    "from sklearn.neighbors import NearestNeighbors\n",
    "model=NearestNeighbors(metric='cosine',algorithm='brute')\n",
    "model.fit(m)"
   ]
  },
  {
   "cell_type": "code",
   "execution_count": 16,
   "metadata": {},
   "outputs": [],
   "source": [
    "dx=pd.read_csv('newfile.txt')\n",
    "x=dx.columns[0]"
   ]
  },
  {
   "cell_type": "code",
   "execution_count": 17,
   "metadata": {},
   "outputs": [],
   "source": [
    "q=0\n",
    "for i in range(d.shape[0]):\n",
    "    if(d.index[i]==x):\n",
    "        q=i"
   ]
  },
  {
   "cell_type": "code",
   "execution_count": null,
   "metadata": {},
   "outputs": [],
   "source": []
  },
  {
   "cell_type": "code",
   "execution_count": 18,
   "metadata": {},
   "outputs": [],
   "source": [
    "dist,indices=model.kneighbors(d.iloc[q,:].values.reshape(1, -1),n_neighbors=5)"
   ]
  },
  {
   "cell_type": "code",
   "execution_count": 19,
   "metadata": {},
   "outputs": [],
   "source": [
    "%%capture cap --no-stderr\n",
    "for i in range(0,len(dist.flatten())):\n",
    "    if i==0:\n",
    "        print('Recommendations for {0}:\\n'.format(d.index[q]))\n",
    "    else:\n",
    "        print('{0}: {1}'.format(i,d.index[indices.flatten()[i]]))"
   ]
  },
  {
   "cell_type": "code",
   "execution_count": 20,
   "metadata": {},
   "outputs": [],
   "source": [
    "with open('D:/wamp/www/IWP Project/output.txt', 'w') as f:\n",
    "    f.write(cap.stdout)"
   ]
  },
  {
   "cell_type": "code",
   "execution_count": null,
   "metadata": {},
   "outputs": [],
   "source": []
  }
 ],
 "metadata": {
  "kernelspec": {
   "display_name": "Python 3",
   "language": "python",
   "name": "python3"
  },
  "language_info": {
   "codemirror_mode": {
    "name": "ipython",
    "version": 3
   },
   "file_extension": ".py",
   "mimetype": "text/x-python",
   "name": "python",
   "nbconvert_exporter": "python",
   "pygments_lexer": "ipython3",
   "version": "3.7.4"
  }
 },
 "nbformat": 4,
 "nbformat_minor": 2
}
